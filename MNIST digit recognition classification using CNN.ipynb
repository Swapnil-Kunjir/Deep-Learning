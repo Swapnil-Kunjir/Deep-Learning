{
 "cells": [
  {
   "cell_type": "code",
   "execution_count": 1,
   "metadata": {},
   "outputs": [],
   "source": [
    "import keras\n",
    "#importing dataset directly from ones available in keras \n",
    "(x_train, y_train), (x_test, y_test) = keras.datasets.mnist.load_data()"
   ]
  },
  {
   "cell_type": "code",
   "execution_count": 2,
   "metadata": {},
   "outputs": [
    {
     "data": {
      "text/plain": [
       "(60000, 28, 28)"
      ]
     },
     "execution_count": 2,
     "metadata": {},
     "output_type": "execute_result"
    }
   ],
   "source": [
    "x_train.shape"
   ]
  },
  {
   "cell_type": "code",
   "execution_count": 3,
   "metadata": {},
   "outputs": [],
   "source": [
    "#Reshaping dataset as CNN requires 3 dimensions\n",
    "x_train = x_train.reshape(x_train.shape[0], 28, 28, 1)\n",
    "#here xtrain.shape[0] is no. of images\n",
    "#28x28 is (28,28) image size in pixel and 1 because it is black and white image\n",
    "#(if it was colored we would have written 3 instead of 1) \n",
    "x_test = x_test.reshape(x_test.shape[0], 28, 28, 1)\n",
    "input_shape = (28, 28, 1)"
   ]
  },
  {
   "cell_type": "code",
   "execution_count": 4,
   "metadata": {},
   "outputs": [],
   "source": [
    "# again we convert images into floating type as images originally have uint8 format on which mathmatical operations cannaot be performed\n",
    "x_train = x_train.astype('float32')\n",
    "x_test = x_test.astype('float32')"
   ]
  },
  {
   "cell_type": "code",
   "execution_count": 5,
   "metadata": {},
   "outputs": [],
   "source": [
    "#normalization of pixels into 0-1 form as they are in 0-255 form\n",
    "x_train /= 255\n",
    "x_test /= 255"
   ]
  },
  {
   "cell_type": "code",
   "execution_count": 11,
   "metadata": {},
   "outputs": [],
   "source": [
    "#converting labels into one hot encoded value as NN requirement (for only multiclass classification not for regression or binary classification)\n",
    "from keras.utils import to_categorical\n",
    "import numpy as np\n",
    "temp = []\n",
    "for i in range(len(y_train)):\n",
    "               temp.append(to_categorical(y_train[i], num_classes=10))\n",
    "y_train = np.array(temp)\n",
    "# Convert y_test into one-hot format\n",
    "temp = []\n",
    "for i in range(len(y_test)):\n",
    "               temp.append(to_categorical(y_test[i], num_classes=10))\n",
    "y_test = np.array(temp)"
   ]
  },
  {
   "cell_type": "code",
   "execution_count": 26,
   "metadata": {},
   "outputs": [],
   "source": [
    "from keras.models import Sequential\n",
    "from keras.layers import Dense, Conv2D, Dropout, Flatten, MaxPooling2D\n",
    "#initiating the model\n",
    "model = Sequential()\n",
    "#convolution and max pooling layers are applied for feature extraction as well as size reduction of original image\n",
    "model.add(Conv2D(32, kernel_size=(3,3), input_shape=input_shape,activation=\"relu\"))\n",
    "model.add(MaxPooling2D(pool_size=(2, 2)))\n",
    "#flattening image as NN requires 1D array\n",
    "model.add(Flatten())\n",
    "# number of neurons in hidden layer as well as activation function can be selected according to you\n",
    "# You can select any which gives you optimal solution\n",
    "model.add(Dense(128, activation=\"relu\"))\n",
    "# Dropout just drops x% of neurons which are selected randomly\n",
    "model.add(Dropout(0.2))\n",
    "#in output layer though activation function and neurons depend on your question in concern (eg binary/multiclass classification/regression)\n",
    "model.add(Dense(10,activation=\"softmax\")"
   ]
  },
  {
   "cell_type": "code",
   "execution_count": 27,
   "metadata": {},
   "outputs": [
    {
     "name": "stdout",
     "output_type": "stream",
     "text": [
      "Model: \"sequential_3\"\n",
      "_________________________________________________________________\n",
      "Layer (type)                 Output Shape              Param #   \n",
      "=================================================================\n",
      "conv2d_3 (Conv2D)            (None, 26, 26, 32)        320       \n",
      "_________________________________________________________________\n",
      "max_pooling2d_3 (MaxPooling2 (None, 13, 13, 32)        0         \n",
      "_________________________________________________________________\n",
      "flatten_3 (Flatten)          (None, 5408)              0         \n",
      "_________________________________________________________________\n",
      "dense_6 (Dense)              (None, 128)               692352    \n",
      "_________________________________________________________________\n",
      "dropout_3 (Dropout)          (None, 128)               0         \n",
      "_________________________________________________________________\n",
      "dense_7 (Dense)              (None, 10)                1290      \n",
      "=================================================================\n",
      "Total params: 693,962\n",
      "Trainable params: 693,962\n",
      "Non-trainable params: 0\n",
      "_________________________________________________________________\n"
     ]
    }
   ],
   "source": [
    "model.summary()"
   ]
  },
  {
   "cell_type": "code",
   "execution_count": 28,
   "metadata": {},
   "outputs": [],
   "source": [
    "#model compilation loss is crossentropy if we are performing classification, metrics and optimizer can be choosed according to user.\n",
    "model.compile(optimizer='adam', loss='categorical_crossentropy', metrics=['accuracy'])"
   ]
  },
  {
   "cell_type": "code",
   "execution_count": 29,
   "metadata": {},
   "outputs": [
    {
     "name": "stdout",
     "output_type": "stream",
     "text": [
      "Epoch 1/10\n",
      "2000/2000 [==============================] - 31s 16ms/step - loss: 0.1810 - accuracy: 0.9463 - val_loss: 0.0634 - val_accuracy: 0.9793\n",
      "Epoch 2/10\n",
      "2000/2000 [==============================] - 26s 13ms/step - loss: 0.0641 - accuracy: 0.9800 - val_loss: 0.0516 - val_accuracy: 0.9842\n",
      "Epoch 3/10\n",
      "2000/2000 [==============================] - 30s 15ms/step - loss: 0.0456 - accuracy: 0.9859 - val_loss: 0.0437 - val_accuracy: 0.9852\n",
      "Epoch 4/10\n",
      "2000/2000 [==============================] - 28s 14ms/step - loss: 0.0320 - accuracy: 0.9900 - val_loss: 0.0410 - val_accuracy: 0.9859\n",
      "Epoch 5/10\n",
      "2000/2000 [==============================] - 27s 13ms/step - loss: 0.0249 - accuracy: 0.9919 - val_loss: 0.0440 - val_accuracy: 0.9866\n",
      "Epoch 6/10\n",
      "2000/2000 [==============================] - 28s 14ms/step - loss: 0.0205 - accuracy: 0.9932 - val_loss: 0.0419 - val_accuracy: 0.9880\n",
      "Epoch 7/10\n",
      "2000/2000 [==============================] - 26s 13ms/step - loss: 0.0149 - accuracy: 0.9949 - val_loss: 0.0497 - val_accuracy: 0.9873\n",
      "Epoch 8/10\n",
      "2000/2000 [==============================] - 28s 14ms/step - loss: 0.0134 - accuracy: 0.9957 - val_loss: 0.0422 - val_accuracy: 0.9893\n",
      "Epoch 9/10\n",
      "2000/2000 [==============================] - 26s 13ms/step - loss: 0.0106 - accuracy: 0.9965 - val_loss: 0.0480 - val_accuracy: 0.9880\n",
      "Epoch 10/10\n",
      "2000/2000 [==============================] - 26s 13ms/step - loss: 0.0100 - accuracy: 0.9966 - val_loss: 0.0470 - val_accuracy: 0.9870\n"
     ]
    },
    {
     "data": {
      "text/plain": [
       "<tensorflow.python.keras.callbacks.History at 0x2ab1b1a9580>"
      ]
     },
     "execution_count": 29,
     "metadata": {},
     "output_type": "execute_result"
    }
   ],
   "source": [
    " # model training and validation\n",
    "model.fit(x=x_train,y=y_train, epochs=10,validation_data=(x_test,y_test),batch_size=30)"
   ]
  },
  {
   "cell_type": "code",
   "execution_count": 30,
   "metadata": {},
   "outputs": [
    {
     "data": {
      "text/plain": [
       "array([[3.1114871e-16, 3.0728881e-11, 1.7856196e-11, ..., 1.0000000e+00,\n",
       "        1.8545790e-13, 1.4880382e-12],\n",
       "       [1.4699273e-13, 2.1236146e-09, 1.0000000e+00, ..., 3.7195347e-15,\n",
       "        3.5723625e-16, 2.1192521e-17],\n",
       "       [5.1858169e-15, 1.0000000e+00, 1.2924158e-12, ..., 3.2790277e-09,\n",
       "        1.3892281e-12, 1.1350526e-14],\n",
       "       ...,\n",
       "       [1.1187607e-21, 5.5332000e-14, 7.1069365e-22, ..., 3.1708384e-14,\n",
       "        1.2980882e-12, 5.3586672e-14],\n",
       "       [2.9916333e-11, 1.3445059e-14, 4.8479503e-15, ..., 1.5256388e-14,\n",
       "        1.4697845e-07, 1.7435295e-12],\n",
       "       [1.4268011e-14, 8.6626398e-15, 3.6256013e-13, ..., 3.5464279e-24,\n",
       "        2.1382707e-13, 7.7898974e-19]], dtype=float32)"
      ]
     },
     "execution_count": 30,
     "metadata": {},
     "output_type": "execute_result"
    }
   ],
   "source": [
    "# prediction\n",
    "prediction=model.predict(x_test)\n",
    "prediction"
   ]
  },
  {
   "cell_type": "code",
   "execution_count": 31,
   "metadata": {},
   "outputs": [
    {
     "data": {
      "text/plain": [
       "array([7, 2, 1, ..., 4, 5, 6], dtype=int64)"
      ]
     },
     "execution_count": 31,
     "metadata": {},
     "output_type": "execute_result"
    }
   ],
   "source": [
    "# argmax returns index of most probable outcome according to our prediction\n",
    "pred=np.argmax(prediction,axis=1)\n",
    "pred"
   ]
  },
  {
   "cell_type": "code",
   "execution_count": 32,
   "metadata": {},
   "outputs": [
    {
     "data": {
      "image/png": "[encoded data removed]",
      "text/plain": [
       "<Figure size 1440x288 with 10 Axes>"
      ]
     },
     "metadata": {
      "needs_background": "light"
     },
     "output_type": "display_data"
    }
   ],
   "source": [
    "# visualization with predicted labels\n",
    "import matplotlib.pyplot as plt\n",
    "fig, axes = plt.subplots(ncols=10, sharex=False,\n",
    "                         sharey=True, figsize=(20, 4))\n",
    "for i in range(10):\n",
    "    axes[i].set_title(pred[i])\n",
    "    axes[i].imshow(x_test[i].reshape(28, 28), cmap='gray')\n",
    "    axes[i].get_xaxis().set_visible(False)\n",
    "    axes[i].get_yaxis().set_visible(False)\n",
    "plt.show()"
   ]
  },
  {
   "cell_type": "code",
   "execution_count": null,
   "metadata": {},
   "outputs": [],
   "source": []
  }
 ],
 "metadata": {
  "kernelspec": {
   "display_name": "Python 3",
   "language": "python",
   "name": "python3"
  },
  "language_info": {
   "codemirror_mode": {
    "name": "ipython",
    "version": 3
   },
   "file_extension": ".py",
   "mimetype": "text/x-python",
   "name": "python",
   "nbconvert_exporter": "python",
   "pygments_lexer": "ipython3",
   "version": "3.8.3"
  }
 },
 "nbformat": 4,
 "nbformat_minor": 4
}
