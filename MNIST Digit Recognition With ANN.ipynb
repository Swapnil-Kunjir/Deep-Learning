{
 "cells": [
  {
   "cell_type": "code",
   "execution_count": 1,
   "metadata": {},
   "outputs": [],
   "source": [
    "import keras"
   ]
  },
  {
   "cell_type": "code",
   "execution_count": 2,
   "metadata": {},
   "outputs": [],
   "source": [
    "#importing dataset directly from keras datasets available\n",
    "#otherwise you can download it from kaggle you will be able to see it in excel if format of matrix\n",
    "(x_train, y_train), (x_test, y_test)=keras.datasets.mnist.load_data(path=\"mnist.npz\")"
   ]
  },
  {
   "cell_type": "code",
   "execution_count": 3,
   "metadata": {},
   "outputs": [
    {
     "data": {
      "text/plain": [
       "(60000, 28, 28)"
      ]
     },
     "execution_count": 3,
     "metadata": {},
     "output_type": "execute_result"
    }
   ],
   "source": [
    "x_train.shape"
   ]
  },
  {
   "cell_type": "code",
   "execution_count": 4,
   "metadata": {},
   "outputs": [
    {
     "data": {
      "text/plain": [
       "(60000,)"
      ]
     },
     "execution_count": 4,
     "metadata": {},
     "output_type": "execute_result"
    }
   ],
   "source": [
    "y_train.shape"
   ]
  },
  {
   "cell_type": "code",
   "execution_count": 8,
   "metadata": {},
   "outputs": [
    {
     "data": {
      "image/png": "[encoded data removed]",
      "text/plain": [
       "<Figure size 1440x288 with 10 Axes>"
      ]
     },
     "metadata": {
      "needs_background": "light"
     },
     "output_type": "display_data"
    }
   ],
   "source": [
    "#visualization of first 10 images with their labels\n",
    "import matplotlib.pyplot as plt\n",
    "fig, axes = plt.subplots(ncols=10, sharex=False, \n",
    "    sharey=True, figsize=(20, 4))\n",
    "for i in range(10):\n",
    "    axes[i].set_title(y_train[i])  # these are functions of matplotlib.axes (for each subplot you can have different features)\n",
    "    axes[i].imshow(x_train[i], cmap='gray') # imshow shows images in true form if you direcly write train[i] it will show you matrix)\n",
    "    axes[i].get_xaxis().set_visible(False) \n",
    "    axes[i].get_yaxis().set_visible(False)\n",
    "plt.show()"
   ]
  },
  {
   "cell_type": "markdown",
   "metadata": {},
   "source": [
    "You can see images with their labels on top which are already provided"
   ]
  },
  {
   "cell_type": "code",
   "execution_count": 9,
   "metadata": {},
   "outputs": [],
   "source": [
    "#converting labels into one hot encoded values (this is required for applying ANN as their are more than 2 class not required for binary classification)\n",
    "from keras.utils import to_categorical\n",
    "import numpy as np\n",
    "temp = []\n",
    "for i in range(len(y_train)):\n",
    "               temp.append(to_categorical(y_train[i], num_classes=10))\n",
    "y_train = np.array(temp)\n",
    "# Convert y_test into one-hot format\n",
    "temp = []\n",
    "for i in range(len(y_test)):\n",
    "               temp.append(to_categorical(y_test[i], num_classes=10))\n",
    "y_test = np.array(temp)"
   ]
  },
  {
   "cell_type": "code",
   "execution_count": 10,
   "metadata": {},
   "outputs": [
    {
     "data": {
      "text/plain": [
       "(60000, 10)"
      ]
     },
     "execution_count": 10,
     "metadata": {},
     "output_type": "execute_result"
    }
   ],
   "source": [
    "y_train.shape"
   ]
  },
  {
   "cell_type": "code",
   "execution_count": 11,
   "metadata": {},
   "outputs": [
    {
     "data": {
      "text/plain": [
       "(10000, 10)"
      ]
     },
     "execution_count": 11,
     "metadata": {},
     "output_type": "execute_result"
    }
   ],
   "source": [
    "y_test.shape"
   ]
  },
  {
   "cell_type": "markdown",
   "metadata": {},
   "source": [
    "as you can see y_train and y_test were only one column each which are now being converted into 10 column one for each number from 0-9"
   ]
  },
  {
   "cell_type": "code",
   "execution_count": 12,
   "metadata": {},
   "outputs": [],
   "source": [
    "from keras.layers import Dense, Flatten\n",
    "from keras.models import Sequential"
   ]
  },
  {
   "cell_type": "code",
   "execution_count": 13,
   "metadata": {},
   "outputs": [],
   "source": [
    "#Model Initiation\n",
    "model=Sequential()\n",
    "#As input is in format of 2D array and Converting them into 1D\n",
    "model.add(Flatten(input_shape=(28,28)))\n",
    "#number of neurons and activation function are hyperparameters you can choose whichever can give you optimal solution\n",
    "model.add(Dense(16,activation=\"sigmoid\"))\n",
    "#activation function is softmax as our output is multiclass not binary\n",
    "model.add(Dense(10,activation=\"softmax\"))"
   ]
  },
  {
   "cell_type": "code",
   "execution_count": 14,
   "metadata": {},
   "outputs": [
    {
     "name": "stdout",
     "output_type": "stream",
     "text": [
      "Model: \"sequential\"\n",
      "_________________________________________________________________\n",
      "Layer (type)                 Output Shape              Param #   \n",
      "=================================================================\n",
      "flatten (Flatten)            (None, 784)               0         \n",
      "_________________________________________________________________\n",
      "dense (Dense)                (None, 16)                12560     \n",
      "_________________________________________________________________\n",
      "dense_1 (Dense)              (None, 10)                170       \n",
      "=================================================================\n",
      "Total params: 12,730\n",
      "Trainable params: 12,730\n",
      "Non-trainable params: 0\n",
      "_________________________________________________________________\n"
     ]
    }
   ],
   "source": [
    "\n",
    "model.summary()"
   ]
  },
  {
   "cell_type": "markdown",
   "metadata": {},
   "source": [
    "model summary shows us there are 3 layers input,hidden and output with total of 12730 parameters in total to optimise.\n",
    "<br>\n",
    "Which are 784 inputs* each going into 16 neurons(16 weights for each)=12544+16 bias(1 for each neuron)=12560\n",
    "<br>\n",
    "Similarly for ouput layer (16*10)+10=170."
   ]
  },
  {
   "cell_type": "code",
   "execution_count": 15,
   "metadata": {},
   "outputs": [],
   "source": [
    "# Model Compilation\n",
    "# As we are using NN for classification we have to use loss function as cross entropy. optimizer and metrics can be of your choice\n",
    "model.compile(loss=\"categorical_crossentropy\",optimizer=\"adam\",metrics=[\"acc\"])"
   ]
  },
  {
   "cell_type": "code",
   "execution_count": 16,
   "metadata": {},
   "outputs": [
    {
     "name": "stdout",
     "output_type": "stream",
     "text": [
      "Epoch 1/10\n",
      "1875/1875 [==============================] - 3s 2ms/step - loss: 1.1115 - acc: 0.7077 - val_loss: 0.6931 - val_acc: 0.8145\n",
      "Epoch 2/10\n",
      "1875/1875 [==============================] - 2s 1ms/step - loss: 0.6097 - acc: 0.8265 - val_loss: 0.5164 - val_acc: 0.8554\n",
      "Epoch 3/10\n",
      "1875/1875 [==============================] - 2s 1ms/step - loss: 0.5368 - acc: 0.8377 - val_loss: 0.4937 - val_acc: 0.8523\n",
      "Epoch 4/10\n",
      "1875/1875 [==============================] - 2s 1ms/step - loss: 0.4810 - acc: 0.8546 - val_loss: 0.5014 - val_acc: 0.8563\n",
      "Epoch 5/10\n",
      "1875/1875 [==============================] - 3s 2ms/step - loss: 0.4641 - acc: 0.8612 - val_loss: 0.4572 - val_acc: 0.8619\n",
      "Epoch 6/10\n",
      "1875/1875 [==============================] - 3s 2ms/step - loss: 0.4578 - acc: 0.8635 - val_loss: 0.4875 - val_acc: 0.8494\n",
      "Epoch 7/10\n",
      "1875/1875 [==============================] - 3s 1ms/step - loss: 0.4286 - acc: 0.8727 - val_loss: 0.4052 - val_acc: 0.8788\n",
      "Epoch 8/10\n",
      "1875/1875 [==============================] - 3s 2ms/step - loss: 0.4350 - acc: 0.8679 - val_loss: 0.4097 - val_acc: 0.8747\n",
      "Epoch 9/10\n",
      "1875/1875 [==============================] - 2s 1ms/step - loss: 0.4256 - acc: 0.8720 - val_loss: 0.4264 - val_acc: 0.8734\n",
      "Epoch 10/10\n",
      "1875/1875 [==============================] - 2s 1ms/step - loss: 0.4309 - acc: 0.8709 - val_loss: 0.4337 - val_acc: 0.8676\n"
     ]
    },
    {
     "data": {
      "text/plain": [
       "<tensorflow.python.keras.callbacks.History at 0x225e8817e20>"
      ]
     },
     "execution_count": 16,
     "metadata": {},
     "output_type": "execute_result"
    }
   ],
   "source": [
    "# Model Training\n",
    "model.fit(x_train,y_train,validation_data=(x_test,y_test),epochs=10)"
   ]
  },
  {
   "cell_type": "markdown",
   "metadata": {},
   "source": [
    "Here you can see the results as accuracy is near about 87%.\n",
    "<br>\n",
    "You can check for different number of nwurons activation function.\n",
    "<br>\n",
    "also you can try different number of epochs and different batch sizes which might improve results."
   ]
  },
  {
   "cell_type": "code",
   "execution_count": 17,
   "metadata": {},
   "outputs": [],
   "source": [
    "prediction=model.predict(x_test)"
   ]
  },
  {
   "cell_type": "code",
   "execution_count": 18,
   "metadata": {},
   "outputs": [
    {
     "data": {
      "text/plain": [
       "array([[1.6081825e-05, 2.4948397e-04, 6.2556202e-05, ..., 9.9233621e-01,\n",
       "        2.3441868e-05, 5.5625741e-03],\n",
       "       [6.0340855e-03, 5.0009059e-04, 9.8007166e-01, ..., 4.5301258e-05,\n",
       "        3.1605735e-03, 2.6560117e-05],\n",
       "       [3.5986070e-06, 9.9782121e-01, 7.1160110e-05, ..., 3.8755164e-04,\n",
       "        3.6923328e-04, 5.3344743e-04],\n",
       "       ...,\n",
       "       [1.9423906e-06, 3.2313925e-05, 1.6440581e-04, ..., 1.3243480e-02,\n",
       "        8.6151238e-04, 8.0294326e-02],\n",
       "       [4.0881508e-03, 5.9575350e-03, 1.6756829e-04, ..., 4.1881666e-04,\n",
       "        1.6372588e-01, 9.7170688e-04],\n",
       "       [1.7197020e-04, 1.6036074e-05, 1.1155813e-02, ..., 6.0986986e-06,\n",
       "        1.6385429e-04, 3.8499114e-05]], dtype=float32)"
      ]
     },
     "execution_count": 18,
     "metadata": {},
     "output_type": "execute_result"
    }
   ],
   "source": [
    "prediction"
   ]
  },
  {
   "cell_type": "code",
   "execution_count": 21,
   "metadata": {},
   "outputs": [
    {
     "data": {
      "text/plain": [
       "array([7, 2, 1, ..., 4, 5, 6], dtype=int64)"
      ]
     },
     "execution_count": 21,
     "metadata": {},
     "output_type": "execute_result"
    }
   ],
   "source": [
    "# Argmax returns the indices of the maximum values along an axis which in our case are nothing but number between 0 to 9 with highest probability predicted by ANN\n",
    "pred=np.argmax(prediction,axis=1)\n",
    "pred"
   ]
  },
  {
   "cell_type": "code",
   "execution_count": 23,
   "metadata": {},
   "outputs": [
    {
     "data": {
      "image/png": "[encoded data removed]",
      "text/plain": [
       "<Figure size 1440x288 with 10 Axes>"
      ]
     },
     "metadata": {
      "needs_background": "light"
     },
     "output_type": "display_data"
    }
   ],
   "source": [
    "# Visualization of test images with predicted outcomes\n",
    "fig, axes = plt.subplots(ncols=10, sharex=False,\n",
    "                         sharey=True, figsize=(20, 4))\n",
    "for i in range(10):\n",
    "    axes[i].set_title(pred[i])\n",
    "    axes[i].imshow(x_test[i], cmap='gray')\n",
    "    axes[i].get_xaxis().set_visible(False)\n",
    "    axes[i].get_yaxis().set_visible(False)\n",
    "plt.show()"
   ]
  },
  {
   "cell_type": "code",
   "execution_count": null,
   "metadata": {},
   "outputs": [],
   "source": []
  }
 ],
 "metadata": {
  "kernelspec": {
   "display_name": "Python 3",
   "language": "python",
   "name": "python3"
  },
  "language_info": {
   "codemirror_mode": {
    "name": "ipython",
    "version": 3
   },
   "file_extension": ".py",
   "mimetype": "text/x-python",
   "name": "python",
   "nbconvert_exporter": "python",
   "pygments_lexer": "ipython3",
   "version": "3.8.3"
  }
 },
 "nbformat": 4,
 "nbformat_minor": 4
}
